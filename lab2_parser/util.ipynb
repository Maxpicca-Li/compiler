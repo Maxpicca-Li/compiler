{
 "cells": [
  {
   "cell_type": "code",
   "execution_count": 11,
   "metadata": {},
   "outputs": [],
   "source": [
    "# coding: utf-8\n",
    "import json\n",
    "from pyecharts import options as opts\n",
    "from pyecharts.charts import Tree"
   ]
  },
  {
   "cell_type": "code",
   "execution_count": 20,
   "metadata": {},
   "outputs": [],
   "source": [
    "ifile_name =\"./test.json\"\n",
    "ofile_name = \"./test.html\"\n",
    "with open(ifile_name,'r',encoding=\"gbk\") as fr: #同上\n",
    "\tdata = json.loads(fr.read())\n",
    "\n",
    "if ofile_name.split('.')[-1]!='html':\n",
    "    print(\"文件名需要以html结尾\")\n",
    "else:\n",
    "    c = (\n",
    "        Tree()\n",
    "        .add(\"\",\n",
    "\t\tdata,\n",
    "\t\torient='LR', # 从上至下绘制TB\n",
    "\t\t# layout=\"radial\", # 发散树图\n",
    "\t\t# collapse_interval=2, # 折叠枝点\n",
    "\t\t) \n",
    "\t\t.set_global_opts(title_opts=opts.TitleOpts(title=\"语法树\"))\n",
    "        .render(ofile_name)\n",
    "    )"
   ]
  }
 ],
 "metadata": {
  "interpreter": {
   "hash": "9b02d228b0deb9bd5deb88192194232067fb7f0761ef8eded4fa6ac3b1d9be68"
  },
  "kernelspec": {
   "display_name": "Python 3.8.5 ('base')",
   "language": "python",
   "name": "python3"
  },
  "language_info": {
   "codemirror_mode": {
    "name": "ipython",
    "version": 3
   },
   "file_extension": ".py",
   "mimetype": "text/x-python",
   "name": "python",
   "nbconvert_exporter": "python",
   "pygments_lexer": "ipython3",
   "version": "3.8.5"
  },
  "orig_nbformat": 4
 },
 "nbformat": 4,
 "nbformat_minor": 2
}
